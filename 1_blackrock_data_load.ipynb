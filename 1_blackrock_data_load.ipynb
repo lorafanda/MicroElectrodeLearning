{
 "cells": [
  {
   "cell_type": "code",
   "execution_count": null,
   "metadata": {},
   "outputs": [],
   "source": [
    "import neo\n",
    "\n",
    "# Load Blackrock file\n",
    "filename = 'S:\\HumanNeuronLab\\DATARAW\\INMAP\\INMAP-HUG-01\\Recordings\\20180117-150234\\*.nev'\n",
    "blf = neo.BlackrockIO(filename)\n",
    "\n",
    "# Read spike data\n",
    "spike_blocks = blf.read_block(lazy=False, cascade=True)\n",
    "for block in spike_blocks:\n",
    "    for seg in block.segments:\n",
    "        # Access spike trains\n",
    "        for st in seg.spiketrains:\n",
    "            print(\"Spike train with\", st.size, \"spikes\")\n",
    "            print(\"Times:\", st.times)\n",
    "            \n",
    "# Read continuous data (e.g., LFP)\n",
    "continuous_blocks = blf.read_block(lazy=False, cascade=True)\n",
    "for block in continuous_blocks:\n",
    "    for seg in block.segments:\n",
    "        # Access analog signals\n",
    "        for ana_sig in seg.analogsignals:\n",
    "            print(\"Analog signal with\", ana_sig.shape[1], \"channels\")\n",
    "            print(\"Signal:\", ana_sig)\n",
    "\n",
    "# Read event data\n",
    "event_blocks = blf.read_block(lazy=False, cascade=True)\n",
    "for block in event_blocks:\n",
    "    for seg in block.segments:\n",
    "        # Access events\n",
    "        for ev in seg.events:\n",
    "            print(\"Event with\", ev.size, \"occurrences\")\n",
    "            print(\"Times:\", ev.times)\n",
    "            print(\"Labels:\", ev.labels)\n"
   ]
  }
 ],
 "metadata": {
  "language_info": {
   "name": "python"
  },
  "orig_nbformat": 4
 },
 "nbformat": 4,
 "nbformat_minor": 2
}
